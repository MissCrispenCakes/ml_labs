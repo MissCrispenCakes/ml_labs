{
  "nbformat": 4,
  "nbformat_minor": 0,
  "metadata": {
    "colab": {
      "provenance": [],
      "toc_visible": true,
      "include_colab_link": true
    },
    "kernelspec": {
      "name": "python3",
      "display_name": "Python 3"
    },
    "accelerator": "GPU",
    "gpuClass": "standard"
  },
  "cells": [
    {
      "cell_type": "markdown",
      "metadata": {
        "id": "view-in-github",
        "colab_type": "text"
      },
      "source": [
        "<a href=\"https://colab.research.google.com/github/MissCrispenCakes/ml_labs/blob/patch-1/Lab05.ipynb\" target=\"_parent\"><img src=\"https://colab.research.google.com/assets/colab-badge.svg\" alt=\"Open In Colab\"/></a>"
      ]
    },
    {
      "cell_type": "markdown",
      "metadata": {
        "id": "hbud_VembfGr"
      },
      "source": [
        "# Lab 5\n",
        "---"
      ]
    },
    {
      "cell_type": "code",
      "metadata": {
        "id": "JbvVDwMPTwt9",
        "outputId": "27cd971b-d3a9-40a6-93ab-348749dea952",
        "colab": {
          "base_uri": "https://localhost:8080/",
          "height": 35
        }
      },
      "source": [
        "import keras\n",
        "keras.__version__"
      ],
      "execution_count": null,
      "outputs": [
        {
          "output_type": "execute_result",
          "data": {
            "text/plain": [
              "'2.11.0'"
            ],
            "application/vnd.google.colaboratory.intrinsic+json": {
              "type": "string"
            }
          },
          "metadata": {},
          "execution_count": 1
        }
      ]
    },
    {
      "cell_type": "code",
      "source": [
        "import gc"
      ],
      "metadata": {
        "id": "3_DvOpIkazqV"
      },
      "execution_count": null,
      "outputs": []
    },
    {
      "cell_type": "markdown",
      "metadata": {
        "id": "AG2CUuJ-aJf0"
      },
      "source": [
        "# Overfitting and underfitting"
      ]
    },
    {
      "cell_type": "markdown",
      "metadata": {
        "id": "NdGqBYd2Txwe"
      },
      "source": [
        "This notebook contains the code samples found in Chapter 3, Section 6 of [Deep Learning with Python](https://www.manning.com/books/deep-learning-with-python?a_aid=keras&a_bid=76564dff). Note that the original text features far more content, in particular further explanations and figures: in this notebook, you will only find source code and related comments.\n",
        "\n",
        "----\n",
        "\n",
        "\n",
        "In all the examples we saw in the previous chapter -- movie review sentiment prediction, topic classification, and house price regression -- \n",
        "we could notice that the performance of our model on the held-out validation data would always peak after a few epochs and would then start \n",
        "degrading, i.e. our model would quickly start to _overfit_ to the training data. Overfitting happens in every single machine learning \n",
        "problem. Learning how to deal with overfitting is essential to mastering machine learning.\n",
        "\n",
        "The fundamental issue in machine learning is the tension between optimization and generalization. \"Optimization\" refers to the process of \n",
        "adjusting a model to get the best performance possible on the training data (the \"learning\" in \"machine learning\"), while \"generalization\" \n",
        "refers to how well the trained model would perform on data it has never seen before. The goal of the game is to get good generalization, of \n",
        "course, but you do not control generalization; you can only adjust the model based on its training data.\n",
        "\n",
        "\n",
        "\n",
        "---\n",
        "\n",
        "\n",
        "At the **beginning of training, optimization and generalization are correlated**: the lower your loss on training data, the lower your loss on \n",
        "test data. While this is happening, **your model is said to be _under-fit_**: there is still progress to be made; the network hasn't yet modeled all relevant patterns in the training data.\n",
        "\n",
        "**After a certain number of iterations on the training data, generalization stops improving**: validation metrics stall then start degrading. **The model is starting to _over-fit_**: it is starting to learn patterns that are specific to the training data but that are misleading or irrelevant when it comes to new data.\n",
        "\n",
        "\n",
        "\n",
        "---\n",
        "\n",
        "\n",
        "\n",
        "To prevent a model from learning misleading or irrelevant patterns found in the training data, _the best solution is of course to get \n",
        "more training data_. A model trained on more data will naturally generalize better. When that is no longer possible, the next best solution \n",
        "is to modulate the quantity of information that your model is allowed to store, or to add constraints on what information it is allowed to \n",
        "store. If a network can only afford to memorize a small number of patterns, the optimization process will force it to focus on the most \n",
        "prominent patterns, which have a better chance of generalizing well.\n",
        "\n",
        "The processing of fighting overfitting in this way is called _regularization_. Let's review some of the most common regularization \n",
        "techniques, and let's apply them in practice to improve our movie classification model from  the previous chapter."
      ]
    },
    {
      "cell_type": "markdown",
      "metadata": {
        "id": "Infcd4IWT3KZ"
      },
      "source": [
        "Note: in this notebook we will be using the IMDB test set as our validation set. It doesn't matter in this context.\n",
        "\n",
        "Let's prepare the data using the code from Chapter 3, Section 5:"
      ]
    },
    {
      "cell_type": "code",
      "metadata": {
        "id": "70GU6JLOT4oQ",
        "outputId": "e06525af-80c6-4bf7-dd98-6c4f1cceddad",
        "colab": {
          "base_uri": "https://localhost:8080/"
        }
      },
      "source": [
        "from keras.datasets import imdb\n",
        "import numpy as np\n",
        "\n",
        "(train_data, train_labels), (test_data, test_labels) = imdb.load_data(num_words=10000)\n",
        "\n",
        "def vectorize_sequences(sequences, dimension=10000): #10000\n",
        "    # Create an all-zero matrix of shape (len(sequences), dimension)\n",
        "    results = np.zeros((len(sequences), dimension))\n",
        "    for i, sequence in enumerate(sequences):\n",
        "        results[i, sequence] = 1.  # set specific indices of results[i] to 1s\n",
        "    return results\n",
        "\n",
        "# Our vectorized training data\n",
        "x_train = vectorize_sequences(train_data)\n",
        "# Our vectorized test data\n",
        "x_test = vectorize_sequences(test_data)\n",
        "# Our vectorized labels\n",
        "y_train = np.asarray(train_labels).astype('float32')\n",
        "y_test = np.asarray(test_labels).astype('float32')"
      ],
      "execution_count": null,
      "outputs": [
        {
          "output_type": "stream",
          "name": "stdout",
          "text": [
            "Downloading data from https://storage.googleapis.com/tensorflow/tf-keras-datasets/imdb.npz\n",
            "17464789/17464789 [==============================] - 2s 0us/step\n"
          ]
        }
      ]
    },
    {
      "cell_type": "markdown",
      "metadata": {
        "id": "65TT0I6aaYkb"
      },
      "source": [
        "# Fighting overfitting"
      ]
    },
    {
      "cell_type": "markdown",
      "metadata": {
        "id": "qNwJl7lzbqpe"
      },
      "source": [
        "## Reducing the network's size"
      ]
    },
    {
      "cell_type": "markdown",
      "metadata": {
        "id": "2a7sE49tT8Tj"
      },
      "source": [
        "The simplest way to prevent overfitting is to reduce the size of the model, i.e. the number of learnable parameters in the model (which is \n",
        "determined by the number of layers and the number of units per layer). In deep learning, the number of learnable parameters in a model is \n",
        "often referred to as the model's \"capacity\". Intuitively, a model with more parameters will have more \"memorization capacity\" and therefore \n",
        "will be able to easily learn a perfect dictionary-like mapping between training samples and their targets, a mapping without any \n",
        "generalization power. For instance, a model with 500,000 binary parameters could easily be made to learn the class of every digits in the \n",
        "MNIST training set: we would only need 10 binary parameters for each of the 50,000 digits. Such a model would be useless for classifying \n",
        "new digit samples. Always keep this in mind: deep learning models tend to be good at fitting to the training data, but the real challenge \n",
        "is generalization, not fitting.\n",
        "\n",
        "On the other hand, if the network has limited memorization resources, it will not be able to learn this mapping as easily, and thus, in \n",
        "order to minimize its loss, it will have to resort to learning compressed representations that have predictive power regarding the targets \n",
        "-- precisely the type of representations that we are interested in. At the same time, keep in mind that you should be using models that have \n",
        "enough parameters that they won't be underfitting: your model shouldn't be starved for memorization resources. There is a compromise to be \n",
        "found between \"too much capacity\" and \"not enough capacity\".\n",
        "\n",
        "Unfortunately, there is no magical formula to determine what the right number of layers is, or what the right size for each layer is. You \n",
        "will have to evaluate an array of different architectures (on your validation set, not on your test set, of course) in order to find the \n",
        "right model size for your data. The general workflow to find an appropriate model size is to start with relatively few layers and \n",
        "parameters, and start increasing the size of the layers or adding new layers until you see diminishing returns with regard to the \n",
        "validation loss.\n",
        "\n",
        "Let's try this on our movie review classification network. Our original network was as such:"
      ]
    },
    {
      "cell_type": "code",
      "metadata": {
        "id": "gbJY5fuCT-AV"
      },
      "source": [
        "from keras import models\n",
        "from keras import layers\n",
        "\n",
        "original_model = models.Sequential()\n",
        "original_model.add(layers.Dense(16, activation='relu', input_shape=(10000,)))\n",
        "original_model.add(layers.Dense(16, activation='relu'))\n",
        "original_model.add(layers.Dense(1, activation='sigmoid'))\n",
        "\n",
        "original_model.compile(optimizer='rmsprop',\n",
        "                       loss='binary_crossentropy',\n",
        "                       metrics=['acc'])"
      ],
      "execution_count": null,
      "outputs": []
    },
    {
      "cell_type": "markdown",
      "metadata": {
        "id": "QYS_Jr-DT_QS"
      },
      "source": [
        "Now let's try to replace it with this smaller network:"
      ]
    },
    {
      "cell_type": "code",
      "metadata": {
        "id": "Letba-oBUAZy"
      },
      "source": [
        "smaller_model = models.Sequential()\n",
        "smaller_model.add(layers.Dense(4, activation='relu', input_shape=(10000,)))\n",
        "smaller_model.add(layers.Dense(4, activation='relu'))\n",
        "smaller_model.add(layers.Dense(1, activation='sigmoid'))\n",
        "\n",
        "smaller_model.compile(optimizer='rmsprop',\n",
        "                      loss='binary_crossentropy',\n",
        "                      metrics=['acc'])"
      ],
      "execution_count": null,
      "outputs": []
    },
    {
      "cell_type": "code",
      "metadata": {
        "id": "EtiVTaj-UIzY",
        "outputId": "1f66e764-dcbf-4e0d-d377-06f1befbd660",
        "colab": {
          "base_uri": "https://localhost:8080/"
        }
      },
      "source": [
        "original_hist = original_model.fit(x_train, y_train,\n",
        "                                   epochs=20,\n",
        "                                   batch_size=512,\n",
        "                                   validation_data=(x_test, y_test))"
      ],
      "execution_count": null,
      "outputs": [
        {
          "output_type": "stream",
          "name": "stdout",
          "text": [
            "Epoch 1/20\n",
            "49/49 [==============================] - 9s 85ms/step - loss: 0.4717 - acc: 0.8141 - val_loss: 0.3520 - val_acc: 0.8729\n",
            "Epoch 2/20\n",
            "49/49 [==============================] - 1s 31ms/step - loss: 0.2723 - acc: 0.9036 - val_loss: 0.2866 - val_acc: 0.8877\n",
            "Epoch 3/20\n",
            "49/49 [==============================] - 1s 26ms/step - loss: 0.2114 - acc: 0.9238 - val_loss: 0.2805 - val_acc: 0.8880\n",
            "Epoch 4/20\n",
            "49/49 [==============================] - 1s 25ms/step - loss: 0.1789 - acc: 0.9378 - val_loss: 0.2887 - val_acc: 0.8854\n",
            "Epoch 5/20\n",
            "49/49 [==============================] - 1s 25ms/step - loss: 0.1584 - acc: 0.9439 - val_loss: 0.3065 - val_acc: 0.8808\n",
            "Epoch 6/20\n",
            "49/49 [==============================] - 1s 26ms/step - loss: 0.1392 - acc: 0.9520 - val_loss: 0.3255 - val_acc: 0.8766\n",
            "Epoch 7/20\n",
            "49/49 [==============================] - 2s 32ms/step - loss: 0.1256 - acc: 0.9579 - val_loss: 0.3365 - val_acc: 0.8756\n",
            "Epoch 8/20\n",
            "49/49 [==============================] - 1s 28ms/step - loss: 0.1110 - acc: 0.9634 - val_loss: 0.3570 - val_acc: 0.8725\n",
            "Epoch 9/20\n",
            "49/49 [==============================] - 1s 24ms/step - loss: 0.1005 - acc: 0.9666 - val_loss: 0.3875 - val_acc: 0.8668\n",
            "Epoch 10/20\n",
            "49/49 [==============================] - 2s 42ms/step - loss: 0.0883 - acc: 0.9717 - val_loss: 0.4043 - val_acc: 0.8678\n",
            "Epoch 11/20\n",
            "49/49 [==============================] - 1s 24ms/step - loss: 0.0791 - acc: 0.9743 - val_loss: 0.4576 - val_acc: 0.8596\n",
            "Epoch 12/20\n",
            "49/49 [==============================] - 1s 24ms/step - loss: 0.0719 - acc: 0.9772 - val_loss: 0.4648 - val_acc: 0.8624\n",
            "Epoch 13/20\n",
            "49/49 [==============================] - 1s 26ms/step - loss: 0.0622 - acc: 0.9817 - val_loss: 0.4723 - val_acc: 0.8651\n",
            "Epoch 14/20\n",
            "49/49 [==============================] - 1s 29ms/step - loss: 0.0552 - acc: 0.9836 - val_loss: 0.5218 - val_acc: 0.8579\n",
            "Epoch 15/20\n",
            "49/49 [==============================] - 2s 33ms/step - loss: 0.0466 - acc: 0.9882 - val_loss: 0.6008 - val_acc: 0.8479\n",
            "Epoch 16/20\n",
            "49/49 [==============================] - 1s 30ms/step - loss: 0.0413 - acc: 0.9896 - val_loss: 0.5570 - val_acc: 0.8598\n",
            "Epoch 17/20\n",
            "49/49 [==============================] - 1s 25ms/step - loss: 0.0384 - acc: 0.9900 - val_loss: 0.5759 - val_acc: 0.8604\n",
            "Epoch 18/20\n",
            "49/49 [==============================] - 1s 27ms/step - loss: 0.0293 - acc: 0.9926 - val_loss: 0.6110 - val_acc: 0.8593\n",
            "Epoch 19/20\n",
            "49/49 [==============================] - 1s 29ms/step - loss: 0.0307 - acc: 0.9916 - val_loss: 0.6412 - val_acc: 0.8545\n",
            "Epoch 20/20\n",
            "49/49 [==============================] - 1s 25ms/step - loss: 0.0210 - acc: 0.9949 - val_loss: 0.6619 - val_acc: 0.8569\n"
          ]
        }
      ]
    },
    {
      "cell_type": "code",
      "source": [
        "gc.collect()"
      ],
      "metadata": {
        "colab": {
          "base_uri": "https://localhost:8080/"
        },
        "id": "5jiH7roVbg5a",
        "outputId": "85fa05db-c2f1-4582-84a7-3344f443dee3"
      },
      "execution_count": null,
      "outputs": [
        {
          "output_type": "execute_result",
          "data": {
            "text/plain": [
              "1538"
            ]
          },
          "metadata": {},
          "execution_count": 7
        }
      ]
    },
    {
      "cell_type": "code",
      "metadata": {
        "id": "hHKHO79pUJoG",
        "outputId": "aeab8b3a-d9d5-45c7-9bf8-82a503bd3be1",
        "colab": {
          "base_uri": "https://localhost:8080/",
          "height": 856
        }
      },
      "source": [
        "smaller_model_hist = smaller_model.fit(x_train, y_train,\n",
        "                                       epochs=20,\n",
        "                                       batch_size=512,\n",
        "                                       validation_data=(x_test, y_test))"
      ],
      "execution_count": null,
      "outputs": [
        {
          "output_type": "stream",
          "name": "stdout",
          "text": [
            "Epoch 1/20\n",
            "49/49 [==============================] - 3s 66ms/step - loss: 0.1870 - acc: 0.9808 - val_loss: 0.5853 - val_acc: 0.8618\n",
            "Epoch 2/20\n",
            "49/49 [==============================] - 1s 26ms/step - loss: 0.1803 - acc: 0.9809 - val_loss: 0.5704 - val_acc: 0.8603\n",
            "Epoch 3/20\n",
            "49/49 [==============================] - 1s 27ms/step - loss: 0.1737 - acc: 0.9815 - val_loss: 0.5957 - val_acc: 0.8594\n",
            "Epoch 4/20\n",
            "49/49 [==============================] - 1s 30ms/step - loss: 0.1673 - acc: 0.9818 - val_loss: 0.5880 - val_acc: 0.8581\n",
            "Epoch 5/20\n",
            "49/49 [==============================] - 1s 24ms/step - loss: 0.1613 - acc: 0.9824 - val_loss: 0.6106 - val_acc: 0.8582\n",
            "Epoch 6/20\n",
            "49/49 [==============================] - 1s 26ms/step - loss: 0.1551 - acc: 0.9828 - val_loss: 0.6400 - val_acc: 0.8576\n",
            "Epoch 7/20\n",
            "49/49 [==============================] - 1s 25ms/step - loss: 0.1500 - acc: 0.9828 - val_loss: 0.6085 - val_acc: 0.8573\n",
            "Epoch 8/20\n",
            "49/49 [==============================] - 1s 26ms/step - loss: 0.1445 - acc: 0.9835 - val_loss: 0.7312 - val_acc: 0.8563\n",
            "Epoch 9/20\n",
            "49/49 [==============================] - 2s 37ms/step - loss: 0.1402 - acc: 0.9831 - val_loss: 0.6605 - val_acc: 0.8559\n",
            "Epoch 10/20\n",
            "49/49 [==============================] - 1s 27ms/step - loss: 0.1343 - acc: 0.9840 - val_loss: 0.6695 - val_acc: 0.8562\n",
            "Epoch 11/20\n",
            "49/49 [==============================] - 1s 25ms/step - loss: 0.1307 - acc: 0.9841 - val_loss: 0.6702 - val_acc: 0.8537\n",
            "Epoch 12/20\n",
            "21/49 [===========>..................] - ETA: 0s - loss: 0.1263 - acc: 0.9853"
          ]
        },
        {
          "output_type": "error",
          "ename": "KeyboardInterrupt",
          "evalue": "ignored",
          "traceback": [
            "\u001b[0;31m---------------------------------------------------------------------------\u001b[0m",
            "\u001b[0;31mKeyboardInterrupt\u001b[0m                         Traceback (most recent call last)",
            "\u001b[0;32m<ipython-input-38-46a45f421aa5>\u001b[0m in \u001b[0;36m<module>\u001b[0;34m\u001b[0m\n\u001b[1;32m      1\u001b[0m \u001b[0mgc\u001b[0m\u001b[0;34m.\u001b[0m\u001b[0mcollect\u001b[0m\u001b[0;34m(\u001b[0m\u001b[0;34m)\u001b[0m\u001b[0;34m\u001b[0m\u001b[0;34m\u001b[0m\u001b[0m\n\u001b[0;32m----> 2\u001b[0;31m smaller_model_hist = smaller_model.fit(x_train, y_train,\n\u001b[0m\u001b[1;32m      3\u001b[0m                                        \u001b[0mepochs\u001b[0m\u001b[0;34m=\u001b[0m\u001b[0;36m20\u001b[0m\u001b[0;34m,\u001b[0m\u001b[0;34m\u001b[0m\u001b[0;34m\u001b[0m\u001b[0m\n\u001b[1;32m      4\u001b[0m                                        \u001b[0mbatch_size\u001b[0m\u001b[0;34m=\u001b[0m\u001b[0;36m512\u001b[0m\u001b[0;34m,\u001b[0m\u001b[0;34m\u001b[0m\u001b[0;34m\u001b[0m\u001b[0m\n\u001b[1;32m      5\u001b[0m                                        validation_data=(x_test, y_test))\n",
            "\u001b[0;32m/usr/local/lib/python3.9/dist-packages/keras/utils/traceback_utils.py\u001b[0m in \u001b[0;36merror_handler\u001b[0;34m(*args, **kwargs)\u001b[0m\n\u001b[1;32m     63\u001b[0m         \u001b[0mfiltered_tb\u001b[0m \u001b[0;34m=\u001b[0m \u001b[0;32mNone\u001b[0m\u001b[0;34m\u001b[0m\u001b[0;34m\u001b[0m\u001b[0m\n\u001b[1;32m     64\u001b[0m         \u001b[0;32mtry\u001b[0m\u001b[0;34m:\u001b[0m\u001b[0;34m\u001b[0m\u001b[0;34m\u001b[0m\u001b[0m\n\u001b[0;32m---> 65\u001b[0;31m             \u001b[0;32mreturn\u001b[0m \u001b[0mfn\u001b[0m\u001b[0;34m(\u001b[0m\u001b[0;34m*\u001b[0m\u001b[0margs\u001b[0m\u001b[0;34m,\u001b[0m \u001b[0;34m**\u001b[0m\u001b[0mkwargs\u001b[0m\u001b[0;34m)\u001b[0m\u001b[0;34m\u001b[0m\u001b[0;34m\u001b[0m\u001b[0m\n\u001b[0m\u001b[1;32m     66\u001b[0m         \u001b[0;32mexcept\u001b[0m \u001b[0mException\u001b[0m \u001b[0;32mas\u001b[0m \u001b[0me\u001b[0m\u001b[0;34m:\u001b[0m\u001b[0;34m\u001b[0m\u001b[0;34m\u001b[0m\u001b[0m\n\u001b[1;32m     67\u001b[0m             \u001b[0mfiltered_tb\u001b[0m \u001b[0;34m=\u001b[0m \u001b[0m_process_traceback_frames\u001b[0m\u001b[0;34m(\u001b[0m\u001b[0me\u001b[0m\u001b[0;34m.\u001b[0m\u001b[0m__traceback__\u001b[0m\u001b[0;34m)\u001b[0m\u001b[0;34m\u001b[0m\u001b[0;34m\u001b[0m\u001b[0m\n",
            "\u001b[0;32m/usr/local/lib/python3.9/dist-packages/keras/engine/training.py\u001b[0m in \u001b[0;36mfit\u001b[0;34m(self, x, y, batch_size, epochs, verbose, callbacks, validation_split, validation_data, shuffle, class_weight, sample_weight, initial_epoch, steps_per_epoch, validation_steps, validation_batch_size, validation_freq, max_queue_size, workers, use_multiprocessing)\u001b[0m\n\u001b[1;32m   1648\u001b[0m                         ):\n\u001b[1;32m   1649\u001b[0m                             \u001b[0mcallbacks\u001b[0m\u001b[0;34m.\u001b[0m\u001b[0mon_train_batch_begin\u001b[0m\u001b[0;34m(\u001b[0m\u001b[0mstep\u001b[0m\u001b[0;34m)\u001b[0m\u001b[0;34m\u001b[0m\u001b[0;34m\u001b[0m\u001b[0m\n\u001b[0;32m-> 1650\u001b[0;31m                             \u001b[0mtmp_logs\u001b[0m \u001b[0;34m=\u001b[0m \u001b[0mself\u001b[0m\u001b[0;34m.\u001b[0m\u001b[0mtrain_function\u001b[0m\u001b[0;34m(\u001b[0m\u001b[0miterator\u001b[0m\u001b[0;34m)\u001b[0m\u001b[0;34m\u001b[0m\u001b[0;34m\u001b[0m\u001b[0m\n\u001b[0m\u001b[1;32m   1651\u001b[0m                             \u001b[0;32mif\u001b[0m \u001b[0mdata_handler\u001b[0m\u001b[0;34m.\u001b[0m\u001b[0mshould_sync\u001b[0m\u001b[0;34m:\u001b[0m\u001b[0;34m\u001b[0m\u001b[0;34m\u001b[0m\u001b[0m\n\u001b[1;32m   1652\u001b[0m                                 \u001b[0mcontext\u001b[0m\u001b[0;34m.\u001b[0m\u001b[0masync_wait\u001b[0m\u001b[0;34m(\u001b[0m\u001b[0;34m)\u001b[0m\u001b[0;34m\u001b[0m\u001b[0;34m\u001b[0m\u001b[0m\n",
            "\u001b[0;32m/usr/local/lib/python3.9/dist-packages/tensorflow/python/util/traceback_utils.py\u001b[0m in \u001b[0;36merror_handler\u001b[0;34m(*args, **kwargs)\u001b[0m\n\u001b[1;32m    148\u001b[0m     \u001b[0mfiltered_tb\u001b[0m \u001b[0;34m=\u001b[0m \u001b[0;32mNone\u001b[0m\u001b[0;34m\u001b[0m\u001b[0;34m\u001b[0m\u001b[0m\n\u001b[1;32m    149\u001b[0m     \u001b[0;32mtry\u001b[0m\u001b[0;34m:\u001b[0m\u001b[0;34m\u001b[0m\u001b[0;34m\u001b[0m\u001b[0m\n\u001b[0;32m--> 150\u001b[0;31m       \u001b[0;32mreturn\u001b[0m \u001b[0mfn\u001b[0m\u001b[0;34m(\u001b[0m\u001b[0;34m*\u001b[0m\u001b[0margs\u001b[0m\u001b[0;34m,\u001b[0m \u001b[0;34m**\u001b[0m\u001b[0mkwargs\u001b[0m\u001b[0;34m)\u001b[0m\u001b[0;34m\u001b[0m\u001b[0;34m\u001b[0m\u001b[0m\n\u001b[0m\u001b[1;32m    151\u001b[0m     \u001b[0;32mexcept\u001b[0m \u001b[0mException\u001b[0m \u001b[0;32mas\u001b[0m \u001b[0me\u001b[0m\u001b[0;34m:\u001b[0m\u001b[0;34m\u001b[0m\u001b[0;34m\u001b[0m\u001b[0m\n\u001b[1;32m    152\u001b[0m       \u001b[0mfiltered_tb\u001b[0m \u001b[0;34m=\u001b[0m \u001b[0m_process_traceback_frames\u001b[0m\u001b[0;34m(\u001b[0m\u001b[0me\u001b[0m\u001b[0;34m.\u001b[0m\u001b[0m__traceback__\u001b[0m\u001b[0;34m)\u001b[0m\u001b[0;34m\u001b[0m\u001b[0;34m\u001b[0m\u001b[0m\n",
            "\u001b[0;32m/usr/local/lib/python3.9/dist-packages/tensorflow/python/eager/polymorphic_function/polymorphic_function.py\u001b[0m in \u001b[0;36m__call__\u001b[0;34m(self, *args, **kwds)\u001b[0m\n\u001b[1;32m    878\u001b[0m \u001b[0;34m\u001b[0m\u001b[0m\n\u001b[1;32m    879\u001b[0m       \u001b[0;32mwith\u001b[0m \u001b[0mOptionalXlaContext\u001b[0m\u001b[0;34m(\u001b[0m\u001b[0mself\u001b[0m\u001b[0;34m.\u001b[0m\u001b[0m_jit_compile\u001b[0m\u001b[0;34m)\u001b[0m\u001b[0;34m:\u001b[0m\u001b[0;34m\u001b[0m\u001b[0;34m\u001b[0m\u001b[0m\n\u001b[0;32m--> 880\u001b[0;31m         \u001b[0mresult\u001b[0m \u001b[0;34m=\u001b[0m \u001b[0mself\u001b[0m\u001b[0;34m.\u001b[0m\u001b[0m_call\u001b[0m\u001b[0;34m(\u001b[0m\u001b[0;34m*\u001b[0m\u001b[0margs\u001b[0m\u001b[0;34m,\u001b[0m \u001b[0;34m**\u001b[0m\u001b[0mkwds\u001b[0m\u001b[0;34m)\u001b[0m\u001b[0;34m\u001b[0m\u001b[0;34m\u001b[0m\u001b[0m\n\u001b[0m\u001b[1;32m    881\u001b[0m \u001b[0;34m\u001b[0m\u001b[0m\n\u001b[1;32m    882\u001b[0m       \u001b[0mnew_tracing_count\u001b[0m \u001b[0;34m=\u001b[0m \u001b[0mself\u001b[0m\u001b[0;34m.\u001b[0m\u001b[0mexperimental_get_tracing_count\u001b[0m\u001b[0;34m(\u001b[0m\u001b[0;34m)\u001b[0m\u001b[0;34m\u001b[0m\u001b[0;34m\u001b[0m\u001b[0m\n",
            "\u001b[0;32m/usr/local/lib/python3.9/dist-packages/tensorflow/python/eager/polymorphic_function/polymorphic_function.py\u001b[0m in \u001b[0;36m_call\u001b[0;34m(self, *args, **kwds)\u001b[0m\n\u001b[1;32m    910\u001b[0m       \u001b[0;31m# In this case we have created variables on the first call, so we run the\u001b[0m\u001b[0;34m\u001b[0m\u001b[0;34m\u001b[0m\u001b[0m\n\u001b[1;32m    911\u001b[0m       \u001b[0;31m# defunned version which is guaranteed to never create variables.\u001b[0m\u001b[0;34m\u001b[0m\u001b[0;34m\u001b[0m\u001b[0m\n\u001b[0;32m--> 912\u001b[0;31m       \u001b[0;32mreturn\u001b[0m \u001b[0mself\u001b[0m\u001b[0;34m.\u001b[0m\u001b[0m_no_variable_creation_fn\u001b[0m\u001b[0;34m(\u001b[0m\u001b[0;34m*\u001b[0m\u001b[0margs\u001b[0m\u001b[0;34m,\u001b[0m \u001b[0;34m**\u001b[0m\u001b[0mkwds\u001b[0m\u001b[0;34m)\u001b[0m  \u001b[0;31m# pylint: disable=not-callable\u001b[0m\u001b[0;34m\u001b[0m\u001b[0;34m\u001b[0m\u001b[0m\n\u001b[0m\u001b[1;32m    913\u001b[0m     \u001b[0;32melif\u001b[0m \u001b[0mself\u001b[0m\u001b[0;34m.\u001b[0m\u001b[0m_variable_creation_fn\u001b[0m \u001b[0;32mis\u001b[0m \u001b[0;32mnot\u001b[0m \u001b[0;32mNone\u001b[0m\u001b[0;34m:\u001b[0m\u001b[0;34m\u001b[0m\u001b[0;34m\u001b[0m\u001b[0m\n\u001b[1;32m    914\u001b[0m       \u001b[0;31m# Release the lock early so that multiple threads can perform the call\u001b[0m\u001b[0;34m\u001b[0m\u001b[0;34m\u001b[0m\u001b[0m\n",
            "\u001b[0;32m/usr/local/lib/python3.9/dist-packages/tensorflow/python/eager/polymorphic_function/tracing_compiler.py\u001b[0m in \u001b[0;36m__call__\u001b[0;34m(self, *args, **kwargs)\u001b[0m\n\u001b[1;32m    132\u001b[0m       (concrete_function,\n\u001b[1;32m    133\u001b[0m        filtered_flat_args) = self._maybe_define_function(args, kwargs)\n\u001b[0;32m--> 134\u001b[0;31m     return concrete_function._call_flat(\n\u001b[0m\u001b[1;32m    135\u001b[0m         filtered_flat_args, captured_inputs=concrete_function.captured_inputs)  # pylint: disable=protected-access\n\u001b[1;32m    136\u001b[0m \u001b[0;34m\u001b[0m\u001b[0m\n",
            "\u001b[0;32m/usr/local/lib/python3.9/dist-packages/tensorflow/python/eager/polymorphic_function/monomorphic_function.py\u001b[0m in \u001b[0;36m_call_flat\u001b[0;34m(self, args, captured_inputs, cancellation_manager)\u001b[0m\n\u001b[1;32m   1743\u001b[0m         and executing_eagerly):\n\u001b[1;32m   1744\u001b[0m       \u001b[0;31m# No tape is watching; skip to running the function.\u001b[0m\u001b[0;34m\u001b[0m\u001b[0;34m\u001b[0m\u001b[0m\n\u001b[0;32m-> 1745\u001b[0;31m       return self._build_call_outputs(self._inference_function.call(\n\u001b[0m\u001b[1;32m   1746\u001b[0m           ctx, args, cancellation_manager=cancellation_manager))\n\u001b[1;32m   1747\u001b[0m     forward_backward = self._select_forward_and_backward_functions(\n",
            "\u001b[0;32m/usr/local/lib/python3.9/dist-packages/tensorflow/python/eager/polymorphic_function/monomorphic_function.py\u001b[0m in \u001b[0;36mcall\u001b[0;34m(self, ctx, args, cancellation_manager)\u001b[0m\n\u001b[1;32m    376\u001b[0m       \u001b[0;32mwith\u001b[0m \u001b[0m_InterpolateFunctionError\u001b[0m\u001b[0;34m(\u001b[0m\u001b[0mself\u001b[0m\u001b[0;34m)\u001b[0m\u001b[0;34m:\u001b[0m\u001b[0;34m\u001b[0m\u001b[0;34m\u001b[0m\u001b[0m\n\u001b[1;32m    377\u001b[0m         \u001b[0;32mif\u001b[0m \u001b[0mcancellation_manager\u001b[0m \u001b[0;32mis\u001b[0m \u001b[0;32mNone\u001b[0m\u001b[0;34m:\u001b[0m\u001b[0;34m\u001b[0m\u001b[0;34m\u001b[0m\u001b[0m\n\u001b[0;32m--> 378\u001b[0;31m           outputs = execute.execute(\n\u001b[0m\u001b[1;32m    379\u001b[0m               \u001b[0mstr\u001b[0m\u001b[0;34m(\u001b[0m\u001b[0mself\u001b[0m\u001b[0;34m.\u001b[0m\u001b[0msignature\u001b[0m\u001b[0;34m.\u001b[0m\u001b[0mname\u001b[0m\u001b[0;34m)\u001b[0m\u001b[0;34m,\u001b[0m\u001b[0;34m\u001b[0m\u001b[0;34m\u001b[0m\u001b[0m\n\u001b[1;32m    380\u001b[0m               \u001b[0mnum_outputs\u001b[0m\u001b[0;34m=\u001b[0m\u001b[0mself\u001b[0m\u001b[0;34m.\u001b[0m\u001b[0m_num_outputs\u001b[0m\u001b[0;34m,\u001b[0m\u001b[0;34m\u001b[0m\u001b[0;34m\u001b[0m\u001b[0m\n",
            "\u001b[0;32m/usr/local/lib/python3.9/dist-packages/tensorflow/python/eager/execute.py\u001b[0m in \u001b[0;36mquick_execute\u001b[0;34m(op_name, num_outputs, inputs, attrs, ctx, name)\u001b[0m\n\u001b[1;32m     50\u001b[0m   \u001b[0;32mtry\u001b[0m\u001b[0;34m:\u001b[0m\u001b[0;34m\u001b[0m\u001b[0;34m\u001b[0m\u001b[0m\n\u001b[1;32m     51\u001b[0m     \u001b[0mctx\u001b[0m\u001b[0;34m.\u001b[0m\u001b[0mensure_initialized\u001b[0m\u001b[0;34m(\u001b[0m\u001b[0;34m)\u001b[0m\u001b[0;34m\u001b[0m\u001b[0;34m\u001b[0m\u001b[0m\n\u001b[0;32m---> 52\u001b[0;31m     tensors = pywrap_tfe.TFE_Py_Execute(ctx._handle, device_name, op_name,\n\u001b[0m\u001b[1;32m     53\u001b[0m                                         inputs, attrs, num_outputs)\n\u001b[1;32m     54\u001b[0m   \u001b[0;32mexcept\u001b[0m \u001b[0mcore\u001b[0m\u001b[0;34m.\u001b[0m\u001b[0m_NotOkStatusException\u001b[0m \u001b[0;32mas\u001b[0m \u001b[0me\u001b[0m\u001b[0;34m:\u001b[0m\u001b[0;34m\u001b[0m\u001b[0;34m\u001b[0m\u001b[0m\n",
            "\u001b[0;31mKeyboardInterrupt\u001b[0m: "
          ]
        }
      ]
    },
    {
      "cell_type": "code",
      "source": [
        "gc.collect()"
      ],
      "metadata": {
        "colab": {
          "base_uri": "https://localhost:8080/"
        },
        "id": "-92wjVXvbjF3",
        "outputId": "2afed73e-39ee-4cd9-f5cc-329d4858a833"
      },
      "execution_count": null,
      "outputs": [
        {
          "output_type": "execute_result",
          "data": {
            "text/plain": [
              "774"
            ]
          },
          "metadata": {},
          "execution_count": 9
        }
      ]
    },
    {
      "cell_type": "code",
      "metadata": {
        "id": "MoI1_0aQUMIv"
      },
      "source": [
        "epochs = range(1, 21)\n",
        "original_val_loss = original_hist.history['val_loss']\n",
        "smaller_model_val_loss = smaller_model_hist.history['val_loss']"
      ],
      "execution_count": null,
      "outputs": []
    },
    {
      "cell_type": "markdown",
      "metadata": {
        "id": "x2KkGesoUHma"
      },
      "source": [
        "\n",
        "Here's a comparison of the validation losses of the original network and the smaller network. The dots are the validation loss values of \n",
        "the smaller network, and the crosses are the initial network (remember: a lower validation loss signals a better model)."
      ]
    },
    {
      "cell_type": "code",
      "metadata": {
        "id": "wpv1ipwZUTWU",
        "outputId": "27ed71da-a0ad-49b9-d5d1-92dc1d5d7a94",
        "colab": {
          "base_uri": "https://localhost:8080/",
          "height": 279
        }
      },
      "source": [
        "import seaborn as sns\n",
        "import matplotlib.pyplot as plt\n",
        "\n",
        "def modelplot_Small():\n",
        "  sns.scatterplot(x=epochs, y=original_val_loss, color=\"b\", marker='x', label='Original model')\n",
        "  sns.scatterplot(x=epochs, y=smaller_model_val_loss, color=\"b\", marker='o', label='Smaller model')\n",
        "  plt.xlabel('Epochs')\n",
        "  plt.ylabel('Validation loss')\n",
        "  plt.legend()\n",
        "\n",
        "modelplot_Small()"
      ],
      "execution_count": null,
      "outputs": [
        {
          "output_type": "display_data",
          "data": {
            "text/plain": [
              "<Figure size 432x288 with 1 Axes>"
            ],
            "image/png": "[encoded data removed]"
          },
          "metadata": {
            "needs_background": "light"
          }
        }
      ]
    },
    {
      "cell_type": "markdown",
      "metadata": {
        "id": "4h73tiCEUVxE"
      },
      "source": [
        "\n",
        "As you can see, the smaller network starts overfitting later than the reference one (after 6 epochs rather than 4) and its performance \n",
        "degrades much more slowly once it starts overfitting.\n",
        "\n",
        "Now, for kicks, let's add to this benchmark a network that has much more capacity, far more than the problem would warrant:"
      ]
    },
    {
      "cell_type": "code",
      "metadata": {
        "id": "jfSROzwCUXAa"
      },
      "source": [
        "bigger_model = models.Sequential()\n",
        "bigger_model.add(layers.Dense(512, activation='relu', input_shape=(10000,)))\n",
        "bigger_model.add(layers.Dense(512, activation='relu'))\n",
        "bigger_model.add(layers.Dense(1, activation='sigmoid'))\n",
        "\n",
        "bigger_model.compile(optimizer='rmsprop',\n",
        "                     loss='binary_crossentropy',\n",
        "                     metrics=['acc'])"
      ],
      "execution_count": null,
      "outputs": []
    },
    {
      "cell_type": "code",
      "metadata": {
        "id": "vH_r-Bc3UYkE",
        "outputId": "72bfe796-31ef-4312-b72c-e957f1f4d227",
        "colab": {
          "base_uri": "https://localhost:8080/"
        }
      },
      "source": [
        "bigger_model_hist = bigger_model.fit(x_train, y_train,\n",
        "                                     epochs=20,\n",
        "                                     batch_size=512,\n",
        "                                     validation_data=(x_test, y_test))"
      ],
      "execution_count": null,
      "outputs": [
        {
          "output_type": "stream",
          "name": "stdout",
          "text": [
            "Epoch 1/20\n",
            "49/49 [==============================] - 5s 73ms/step - loss: 0.4895 - acc: 0.7786 - val_loss: 0.2993 - val_acc: 0.8787\n",
            "Epoch 2/20\n",
            "49/49 [==============================] - 1s 30ms/step - loss: 0.2747 - acc: 0.8869 - val_loss: 0.2709 - val_acc: 0.8874\n",
            "Epoch 3/20\n",
            "49/49 [==============================] - 1s 29ms/step - loss: 0.2181 - acc: 0.9140 - val_loss: 0.2750 - val_acc: 0.8861\n",
            "Epoch 4/20\n",
            "49/49 [==============================] - 1s 30ms/step - loss: 0.1641 - acc: 0.9358 - val_loss: 0.2864 - val_acc: 0.8825\n",
            "Epoch 5/20\n",
            "49/49 [==============================] - 1s 30ms/step - loss: 0.1208 - acc: 0.9550 - val_loss: 0.3507 - val_acc: 0.8701\n",
            "Epoch 6/20\n",
            "49/49 [==============================] - 2s 47ms/step - loss: 0.1003 - acc: 0.9655 - val_loss: 0.3251 - val_acc: 0.8819\n",
            "Epoch 7/20\n",
            "49/49 [==============================] - 1s 31ms/step - loss: 0.0622 - acc: 0.9788 - val_loss: 0.3626 - val_acc: 0.8805\n",
            "Epoch 8/20\n",
            "49/49 [==============================] - 1s 30ms/step - loss: 0.0517 - acc: 0.9875 - val_loss: 0.4195 - val_acc: 0.8782\n",
            "Epoch 9/20\n",
            "49/49 [==============================] - 1s 30ms/step - loss: 0.0435 - acc: 0.9901 - val_loss: 0.4085 - val_acc: 0.8780\n",
            "Epoch 10/20\n",
            "49/49 [==============================] - 1s 30ms/step - loss: 0.0126 - acc: 0.9970 - val_loss: 2.0822 - val_acc: 0.6872\n",
            "Epoch 11/20\n",
            "49/49 [==============================] - 1s 29ms/step - loss: 0.0332 - acc: 0.9946 - val_loss: 0.5621 - val_acc: 0.8771\n",
            "Epoch 12/20\n",
            "49/49 [==============================] - 1s 30ms/step - loss: 0.0424 - acc: 0.9912 - val_loss: 0.4766 - val_acc: 0.8788\n",
            "Epoch 13/20\n",
            "49/49 [==============================] - 1s 30ms/step - loss: 0.0017 - acc: 1.0000 - val_loss: 0.6131 - val_acc: 0.8786\n",
            "Epoch 14/20\n",
            "49/49 [==============================] - 2s 40ms/step - loss: 6.7721e-04 - acc: 1.0000 - val_loss: 0.7123 - val_acc: 0.8751\n",
            "Epoch 15/20\n",
            "49/49 [==============================] - 2s 31ms/step - loss: 3.8312e-04 - acc: 1.0000 - val_loss: 0.7245 - val_acc: 0.8778\n",
            "Epoch 16/20\n",
            "49/49 [==============================] - 1s 30ms/step - loss: 2.2974e-04 - acc: 1.0000 - val_loss: 0.7569 - val_acc: 0.8785\n",
            "Epoch 17/20\n",
            "49/49 [==============================] - 1s 30ms/step - loss: 1.7220e-04 - acc: 1.0000 - val_loss: 0.7812 - val_acc: 0.8778\n",
            "Epoch 18/20\n",
            "49/49 [==============================] - 1s 30ms/step - loss: 1.3743e-04 - acc: 1.0000 - val_loss: 0.8013 - val_acc: 0.8774\n",
            "Epoch 19/20\n",
            "49/49 [==============================] - 1s 29ms/step - loss: 1.1455e-04 - acc: 1.0000 - val_loss: 0.8156 - val_acc: 0.8772\n",
            "Epoch 20/20\n",
            "49/49 [==============================] - 1s 29ms/step - loss: 9.7832e-05 - acc: 1.0000 - val_loss: 0.8290 - val_acc: 0.8777\n"
          ]
        }
      ]
    },
    {
      "cell_type": "code",
      "source": [
        "gc.collect()"
      ],
      "metadata": {
        "colab": {
          "base_uri": "https://localhost:8080/"
        },
        "id": "feBzCLCXbmpm",
        "outputId": "b7b7bfce-9d94-44cd-a1b1-a0cc587bbffc"
      },
      "execution_count": null,
      "outputs": [
        {
          "output_type": "execute_result",
          "data": {
            "text/plain": [
              "5176"
            ]
          },
          "metadata": {},
          "execution_count": 14
        }
      ]
    },
    {
      "cell_type": "markdown",
      "metadata": {
        "id": "XXE6L0r3UapA"
      },
      "source": [
        "Here's how the bigger network fares compared to the reference one. The dots are the validation loss values of the bigger network, and the \n",
        "crosses are the initial network."
      ]
    },
    {
      "cell_type": "code",
      "metadata": {
        "id": "BOjYknAUUbky",
        "colab": {
          "base_uri": "https://localhost:8080/",
          "height": 279
        },
        "outputId": "b3c7603b-f7d9-43b7-d2c3-88673c310b3c"
      },
      "source": [
        "bigger_model_val_loss = bigger_model_hist.history['val_loss']\n",
        "\n",
        "def modelplot_Big():\n",
        "  # f, ax = plt.subplots(figsize=(8,6))\n",
        "  # sns.despine()\n",
        "  sns.scatterplot(x=epochs, y=original_val_loss, color=\"b\", marker='x', label='Original model')\n",
        "  sns.scatterplot(x=epochs, y=bigger_model_val_loss, color=\"b\", marker='o', label='Bigger model')\n",
        "  plt.xlabel('Epochs')\n",
        "  plt.ylabel('Validation loss')\n",
        "  plt.legend()\n",
        "\n",
        "modelplot_Big()"
      ],
      "execution_count": null,
      "outputs": [
        {
          "output_type": "display_data",
          "data": {
            "text/plain": [
              "<Figure size 432x288 with 1 Axes>"
            ],
            "image/png": "[encoded data removed]"
          },
          "metadata": {
            "needs_background": "light"
          }
        }
      ]
    },
    {
      "cell_type": "markdown",
      "metadata": {
        "id": "GtjFIQR9WNX0"
      },
      "source": [
        "\n",
        "The bigger network starts overfitting almost right away, after just one epoch, and overfits much more severely. Its validation loss is also \n",
        "more noisy.\n",
        "\n",
        "Meanwhile, here are the training losses for our two networks:"
      ]
    },
    {
      "cell_type": "code",
      "metadata": {
        "id": "V5LBeXpoWOfO",
        "colab": {
          "base_uri": "https://localhost:8080/",
          "height": 279
        },
        "outputId": "dd3a9233-9a4d-4f4a-ea52-ac6816dec1df"
      },
      "source": [
        "original_train_loss = original_hist.history['loss']\n",
        "bigger_model_train_loss = bigger_model_hist.history['loss']\n",
        "smaller_model_train_loss = smaller_model_hist.history['loss']\n",
        "\n",
        "def modelplot_Train():\n",
        "  sns.scatterplot(x=epochs, y=original_train_loss, color=\"b\", marker='x', label='Original model')\n",
        "  sns.scatterplot(x=epochs, y=bigger_model_train_loss, color=\"b\", marker='o', label='Bigger model')\n",
        "  plt.xlabel('Epochs')\n",
        "  plt.ylabel('Training loss')\n",
        "  plt.legend()\n",
        "\n",
        "modelplot_Train()"
      ],
      "execution_count": null,
      "outputs": [
        {
          "output_type": "display_data",
          "data": {
            "text/plain": [
              "<Figure size 432x288 with 1 Axes>"
            ],
            "image/png": "[encoded data removed]"
          },
          "metadata": {
            "needs_background": "light"
          }
        }
      ]
    },
    {
      "cell_type": "markdown",
      "metadata": {
        "id": "Cy05NCiSWPtw"
      },
      "source": [
        "As you can see, the bigger network gets its training loss near zero very quickly. The more capacity the network has, the quicker it will be \n",
        "able to model the training data (resulting in a low training loss), but the more susceptible it is to overfitting (resulting in a large \n",
        "difference between the training and validation loss)."
      ]
    },
    {
      "cell_type": "markdown",
      "metadata": {
        "id": "-3UfR0zGawbr"
      },
      "source": [
        "## Adding weight regularization"
      ]
    },
    {
      "cell_type": "markdown",
      "metadata": {
        "id": "oLvj5uP3WQkF"
      },
      "source": [
        "You may be familiar with _Occam's Razor_ principle: given two explanations for something, the explanation most likely to be correct is the \n",
        "\"simplest\" one, the one that makes the least amount of assumptions. This also applies to the models learned by neural networks: given some \n",
        "training data and a network architecture, there are multiple sets of weights values (multiple _models_) that could explain the data, and \n",
        "simpler models are less likely to overfit than complex ones.\n",
        "\n",
        "A \"simple model\" in this context is a model where the distribution of parameter values has less entropy (or a model with fewer \n",
        "parameters altogether, as we saw in the section above). Thus a common way to mitigate overfitting is to put constraints on the complexity \n",
        "of a network by forcing its weights to only take small values, which makes the distribution of weight values more \"regular\". This is called \n",
        "\"weight regularization\", and it is done by adding to the loss function of the network a _cost_ associated with having large weights. This \n",
        "cost comes in two flavors:\n",
        "\n",
        "* L1 regularization, where the cost added is proportional to the _absolute value of the weights coefficients_ (i.e. to what is called the \n",
        "\"L1 norm\" of the weights).\n",
        "* L2 regularization, where the cost added is proportional to the _square of the value of the weights coefficients_ (i.e. to what is called \n",
        "the \"L2 norm\" of the weights). L2 regularization is also called _weight decay_ in the context of neural networks. Don't let the different \n",
        "name confuse you: weight decay is mathematically the exact same as L2 regularization.\n",
        "\n",
        "In Keras, weight regularization is added by passing _weight regularizer instances_ to layers as keyword arguments. Let's add L2 weight \n",
        "regularization to our movie review classification network:"
      ]
    },
    {
      "cell_type": "code",
      "metadata": {
        "id": "hGW4djnaWRz2"
      },
      "source": [
        "from keras import regularizers\n",
        "\n",
        "l2_model = models.Sequential()\n",
        "l2_model.add(layers.Dense(16, kernel_regularizer=regularizers.l2(0.001),\n",
        "                          activation='relu', input_shape=(10000,)))\n",
        "l2_model.add(layers.Dense(16, kernel_regularizer=regularizers.l2(0.001),\n",
        "                          activation='relu'))\n",
        "l2_model.add(layers.Dense(1, activation='sigmoid'))"
      ],
      "execution_count": null,
      "outputs": []
    },
    {
      "cell_type": "code",
      "metadata": {
        "id": "IcW4-QyvWSc7"
      },
      "source": [
        "l2_model.compile(optimizer='rmsprop',\n",
        "                 loss='binary_crossentropy',\n",
        "                 metrics=['acc'])"
      ],
      "execution_count": null,
      "outputs": []
    },
    {
      "cell_type": "markdown",
      "metadata": {
        "id": "1tVNezvuWZJN"
      },
      "source": [
        "`l2(0.001)` means that every coefficient in the weight matrix of the layer will add `0.001 * weight_coefficient_value` to the total loss of \n",
        "the network. Note that because this penalty is _only added at training time_, the loss for this network will be much higher at training \n",
        "than at test time.\n",
        "\n",
        "Here's the impact of our L2 regularization penalty:"
      ]
    },
    {
      "cell_type": "code",
      "metadata": {
        "id": "Ic3RU4m0WbjR",
        "colab": {
          "base_uri": "https://localhost:8080/"
        },
        "outputId": "f350569b-49a3-4a2b-a32f-db2338a2ef21"
      },
      "source": [
        "l2_model_hist = l2_model.fit(x_train, y_train,\n",
        "                             epochs=20,\n",
        "                             batch_size=512,\n",
        "                             validation_data=(x_test, y_test))"
      ],
      "execution_count": null,
      "outputs": [
        {
          "output_type": "stream",
          "name": "stdout",
          "text": [
            "Epoch 1/20\n",
            "49/49 [==============================] - 4s 72ms/step - loss: 0.6362 - acc: 0.6613 - val_loss: 0.5583 - val_acc: 0.7892\n",
            "Epoch 2/20\n",
            "49/49 [==============================] - 2s 31ms/step - loss: 0.4671 - acc: 0.8658 - val_loss: 0.4175 - val_acc: 0.8588\n",
            "Epoch 3/20\n",
            "49/49 [==============================] - 1s 25ms/step - loss: 0.3318 - acc: 0.9075 - val_loss: 0.3472 - val_acc: 0.8869\n",
            "Epoch 4/20\n",
            "49/49 [==============================] - 1s 25ms/step - loss: 0.2779 - acc: 0.9214 - val_loss: 0.3318 - val_acc: 0.8892\n",
            "Epoch 5/20\n",
            "49/49 [==============================] - 1s 25ms/step - loss: 0.2538 - acc: 0.9297 - val_loss: 0.3505 - val_acc: 0.8790\n",
            "Epoch 6/20\n",
            "49/49 [==============================] - 1s 24ms/step - loss: 0.2404 - acc: 0.9348 - val_loss: 0.3430 - val_acc: 0.8832\n",
            "Epoch 7/20\n",
            "49/49 [==============================] - 1s 27ms/step - loss: 0.2295 - acc: 0.9377 - val_loss: 0.3454 - val_acc: 0.8830\n",
            "Epoch 8/20\n",
            "49/49 [==============================] - 2s 40ms/step - loss: 0.2195 - acc: 0.9427 - val_loss: 0.3602 - val_acc: 0.8792\n",
            "Epoch 9/20\n",
            "49/49 [==============================] - 1s 29ms/step - loss: 0.2134 - acc: 0.9451 - val_loss: 0.3640 - val_acc: 0.8771\n",
            "Epoch 10/20\n",
            "49/49 [==============================] - 2s 45ms/step - loss: 0.2080 - acc: 0.9471 - val_loss: 0.3694 - val_acc: 0.8780\n",
            "Epoch 11/20\n",
            "49/49 [==============================] - 1s 27ms/step - loss: 0.2043 - acc: 0.9474 - val_loss: 0.3744 - val_acc: 0.8761\n",
            "Epoch 12/20\n",
            "49/49 [==============================] - 1s 24ms/step - loss: 0.1965 - acc: 0.9539 - val_loss: 0.3779 - val_acc: 0.8761\n",
            "Epoch 13/20\n",
            "49/49 [==============================] - 1s 27ms/step - loss: 0.1931 - acc: 0.9539 - val_loss: 0.3834 - val_acc: 0.8752\n",
            "Epoch 14/20\n",
            "49/49 [==============================] - 1s 24ms/step - loss: 0.1864 - acc: 0.9578 - val_loss: 0.3924 - val_acc: 0.8742\n",
            "Epoch 15/20\n",
            "49/49 [==============================] - 1s 25ms/step - loss: 0.1848 - acc: 0.9572 - val_loss: 0.4021 - val_acc: 0.8737\n",
            "Epoch 16/20\n",
            "49/49 [==============================] - 1s 27ms/step - loss: 0.1824 - acc: 0.9599 - val_loss: 0.4069 - val_acc: 0.8730\n",
            "Epoch 17/20\n",
            "49/49 [==============================] - 1s 26ms/step - loss: 0.1806 - acc: 0.9585 - val_loss: 0.4196 - val_acc: 0.8722\n",
            "Epoch 18/20\n",
            "49/49 [==============================] - 2s 40ms/step - loss: 0.1724 - acc: 0.9634 - val_loss: 0.4140 - val_acc: 0.8729\n",
            "Epoch 19/20\n",
            "49/49 [==============================] - 2s 32ms/step - loss: 0.1722 - acc: 0.9631 - val_loss: 0.4708 - val_acc: 0.8624\n",
            "Epoch 20/20\n",
            "49/49 [==============================] - 1s 26ms/step - loss: 0.1661 - acc: 0.9660 - val_loss: 0.4859 - val_acc: 0.8486\n"
          ]
        }
      ]
    },
    {
      "cell_type": "code",
      "source": [
        "gc.collect()"
      ],
      "metadata": {
        "colab": {
          "base_uri": "https://localhost:8080/"
        },
        "id": "VyO-wSoRbrAX",
        "outputId": "5ac6b26e-e7c0-4061-b6ed-175bdb458dc4"
      },
      "execution_count": null,
      "outputs": [
        {
          "output_type": "execute_result",
          "data": {
            "text/plain": [
              "8664"
            ]
          },
          "metadata": {},
          "execution_count": 20
        }
      ]
    },
    {
      "cell_type": "code",
      "metadata": {
        "id": "eK8EKmk6Wduo",
        "colab": {
          "base_uri": "https://localhost:8080/",
          "height": 279
        },
        "outputId": "918cd860-39e9-4688-e240-de7aeed97f07"
      },
      "source": [
        "l2_model_val_loss = l2_model_hist.history['val_loss']\n",
        "\n",
        "def modelplot_L2():\n",
        "  sns.scatterplot(x=epochs, y=original_val_loss, color=\"b\", marker='x', label='Original model')\n",
        "  sns.scatterplot(x=epochs, y=l2_model_val_loss, color=\"b\", marker='o', label='L2-regularized model')\n",
        "  plt.xlabel('Epochs')\n",
        "  plt.ylabel('Validation loss')\n",
        "  plt.legend()\n",
        "\n",
        "modelplot_L2()"
      ],
      "execution_count": null,
      "outputs": [
        {
          "output_type": "display_data",
          "data": {
            "text/plain": [
              "<Figure size 432x288 with 1 Axes>"
            ],
            "image/png": "[encoded data removed]"
          },
          "metadata": {
            "needs_background": "light"
          }
        }
      ]
    },
    {
      "cell_type": "markdown",
      "metadata": {
        "id": "3YXXn3TJWet0"
      },
      "source": [
        "\n",
        "\n",
        "As you can see, the model with L2 regularization (dots) has become much more resistant to overfitting than the reference model (crosses), \n",
        "even though both models have the same number of parameters.\n",
        "\n",
        "As alternatives to L2 regularization, you could use one of the following Keras weight regularizers:"
      ]
    },
    {
      "cell_type": "code",
      "metadata": {
        "id": "5bXZG6SCWf2B",
        "colab": {
          "base_uri": "https://localhost:8080/"
        },
        "outputId": "78c21eb8-487d-4cda-b01e-4741855aa488"
      },
      "source": [
        "from keras import regularizers\n",
        "\n",
        "# L1 regularization\n",
        "regularizers.l1(0.001)\n",
        "\n",
        "# L1 and L2 regularization at the same time\n",
        "regularizers.l1_l2(l1=0.001, l2=0.001)"
      ],
      "execution_count": null,
      "outputs": [
        {
          "output_type": "execute_result",
          "data": {
            "text/plain": [
              "<keras.regularizers.L1L2 at 0x7fe6dd5cf8e0>"
            ]
          },
          "metadata": {},
          "execution_count": 22
        }
      ]
    },
    {
      "cell_type": "code",
      "metadata": {
        "id": "sRjEst_wxdsX"
      },
      "source": [
        "l1_model = models.Sequential()\n",
        "l1_model.add(layers.Dense(16, kernel_regularizer=regularizers.l1(0.001),\n",
        "                          activation='relu', input_shape=(10000,)))\n",
        "l1_model.add(layers.Dense(16, kernel_regularizer=regularizers.l1(0.001),\n",
        "                          activation='relu'))\n",
        "l1_model.add(layers.Dense(1, activation='sigmoid'))"
      ],
      "execution_count": null,
      "outputs": []
    },
    {
      "cell_type": "code",
      "metadata": {
        "id": "Zeyoe8TIxkkL"
      },
      "source": [
        "l1_model.compile(optimizer='rmsprop',\n",
        "                 loss='binary_crossentropy',\n",
        "                 metrics=['acc'])"
      ],
      "execution_count": null,
      "outputs": []
    },
    {
      "cell_type": "code",
      "metadata": {
        "id": "uV9RcPALx9uw",
        "colab": {
          "base_uri": "https://localhost:8080/"
        },
        "outputId": "8c3e6d93-bc83-4594-9566-2cc5367e6b6e"
      },
      "source": [
        "l1_model_hist = l1_model.fit(x_train, y_train,\n",
        "                             epochs=20,\n",
        "                             batch_size=512,\n",
        "                             validation_data=(x_test, y_test))"
      ],
      "execution_count": null,
      "outputs": [
        {
          "output_type": "stream",
          "name": "stdout",
          "text": [
            "Epoch 1/20\n",
            "49/49 [==============================] - 5s 74ms/step - loss: 0.9668 - acc: 0.7764 - val_loss: 0.6702 - val_acc: 0.8378\n",
            "Epoch 2/20\n",
            "49/49 [==============================] - 1s 27ms/step - loss: 0.6294 - acc: 0.8472 - val_loss: 0.5985 - val_acc: 0.8561\n",
            "Epoch 3/20\n",
            "49/49 [==============================] - 1s 26ms/step - loss: 0.5821 - acc: 0.8555 - val_loss: 0.5857 - val_acc: 0.8482\n",
            "Epoch 4/20\n",
            "49/49 [==============================] - 1s 27ms/step - loss: 0.5570 - acc: 0.8610 - val_loss: 0.5568 - val_acc: 0.8599\n",
            "Epoch 5/20\n",
            "49/49 [==============================] - 1s 26ms/step - loss: 0.5382 - acc: 0.8667 - val_loss: 0.5527 - val_acc: 0.8578\n",
            "Epoch 6/20\n",
            "49/49 [==============================] - 1s 26ms/step - loss: 0.5251 - acc: 0.8706 - val_loss: 0.5193 - val_acc: 0.8699\n",
            "Epoch 7/20\n",
            "49/49 [==============================] - 1s 27ms/step - loss: 0.5118 - acc: 0.8724 - val_loss: 0.5644 - val_acc: 0.8436\n",
            "Epoch 8/20\n",
            "49/49 [==============================] - 2s 43ms/step - loss: 0.5036 - acc: 0.8756 - val_loss: 0.5112 - val_acc: 0.8710\n",
            "Epoch 9/20\n",
            "49/49 [==============================] - 1s 26ms/step - loss: 0.4949 - acc: 0.8777 - val_loss: 0.5287 - val_acc: 0.8589\n",
            "Epoch 10/20\n",
            "49/49 [==============================] - 1s 27ms/step - loss: 0.4897 - acc: 0.8791 - val_loss: 0.4942 - val_acc: 0.8738\n",
            "Epoch 11/20\n",
            "49/49 [==============================] - 1s 26ms/step - loss: 0.4797 - acc: 0.8824 - val_loss: 0.5042 - val_acc: 0.8678\n",
            "Epoch 12/20\n",
            "49/49 [==============================] - 1s 25ms/step - loss: 0.4738 - acc: 0.8843 - val_loss: 0.5091 - val_acc: 0.8650\n",
            "Epoch 13/20\n",
            "49/49 [==============================] - 1s 25ms/step - loss: 0.4695 - acc: 0.8862 - val_loss: 0.4932 - val_acc: 0.8711\n",
            "Epoch 14/20\n",
            "49/49 [==============================] - 1s 28ms/step - loss: 0.4624 - acc: 0.8861 - val_loss: 0.4993 - val_acc: 0.8670\n",
            "Epoch 15/20\n",
            "49/49 [==============================] - 1s 27ms/step - loss: 0.4584 - acc: 0.8903 - val_loss: 0.5107 - val_acc: 0.8640\n",
            "Epoch 16/20\n",
            "49/49 [==============================] - 1s 27ms/step - loss: 0.4524 - acc: 0.8924 - val_loss: 0.4824 - val_acc: 0.8772\n",
            "Epoch 17/20\n",
            "49/49 [==============================] - 1s 30ms/step - loss: 0.4506 - acc: 0.8929 - val_loss: 0.4760 - val_acc: 0.8780\n",
            "Epoch 18/20\n",
            "49/49 [==============================] - 1s 28ms/step - loss: 0.4442 - acc: 0.8940 - val_loss: 0.4692 - val_acc: 0.8797\n",
            "Epoch 19/20\n",
            "49/49 [==============================] - 1s 27ms/step - loss: 0.4390 - acc: 0.8970 - val_loss: 0.4663 - val_acc: 0.8812\n",
            "Epoch 20/20\n",
            "49/49 [==============================] - 1s 26ms/step - loss: 0.4357 - acc: 0.8960 - val_loss: 0.4667 - val_acc: 0.8806\n"
          ]
        }
      ]
    },
    {
      "cell_type": "code",
      "source": [
        "gc.collect()"
      ],
      "metadata": {
        "colab": {
          "base_uri": "https://localhost:8080/"
        },
        "id": "t_i_a9AQbtUk",
        "outputId": "17767e57-63d5-4859-8105-ac30c22234ed"
      },
      "execution_count": null,
      "outputs": [
        {
          "output_type": "execute_result",
          "data": {
            "text/plain": [
              "5177"
            ]
          },
          "metadata": {},
          "execution_count": 26
        }
      ]
    },
    {
      "cell_type": "code",
      "metadata": {
        "id": "h8ixU35xyGx5",
        "colab": {
          "base_uri": "https://localhost:8080/",
          "height": 279
        },
        "outputId": "0326973d-3ac1-476a-ed42-082a16ef35c4"
      },
      "source": [
        "l1_model_val_loss = l1_model_hist.history['val_loss']\n",
        "\n",
        "def modelplot_L1():\n",
        "  sns.scatterplot(x=epochs, y=original_val_loss, color=\"b\", marker='x', label='Original model')\n",
        "  sns.scatterplot(x=epochs, y=l1_model_val_loss, color=\"b\", marker='o', label='L1-regularized model')\n",
        "  plt.xlabel('Epochs')\n",
        "  plt.ylabel('Validation loss')\n",
        "  plt.legend()\n",
        "\n",
        "modelplot_L1()"
      ],
      "execution_count": null,
      "outputs": [
        {
          "output_type": "display_data",
          "data": {
            "text/plain": [
              "<Figure size 432x288 with 1 Axes>"
            ],
            "image/png": "[encoded data removed]"
          },
          "metadata": {
            "needs_background": "light"
          }
        }
      ]
    },
    {
      "cell_type": "code",
      "metadata": {
        "id": "Pj7DDJ7Yxk4N"
      },
      "source": [
        "l12_model = models.Sequential()\n",
        "l12_model.add(layers.Dense(16, kernel_regularizer=regularizers.l1_l2(l1=0.001, l2=0.001),\n",
        "                          activation='relu', input_shape=(10000,)))\n",
        "l12_model.add(layers.Dense(16, kernel_regularizer=regularizers.l1_l2(l1=0.001, l2=0.001),\n",
        "                          activation='relu'))\n",
        "l12_model.add(layers.Dense(1, activation='sigmoid'))"
      ],
      "execution_count": null,
      "outputs": []
    },
    {
      "cell_type": "code",
      "metadata": {
        "id": "WMwHU_Hbx4Ld"
      },
      "source": [
        "l12_model.compile(optimizer='rmsprop',\n",
        "                 loss='binary_crossentropy',\n",
        "                 metrics=['acc'])"
      ],
      "execution_count": null,
      "outputs": []
    },
    {
      "cell_type": "code",
      "metadata": {
        "id": "dTmM_5TOyAjc",
        "colab": {
          "base_uri": "https://localhost:8080/"
        },
        "outputId": "db9327d2-219d-44c0-8a35-a46ad70a474a"
      },
      "source": [
        "l12_model_hist = l12_model.fit(x_train, y_train,\n",
        "                             epochs=20,\n",
        "                             batch_size=512,\n",
        "                             validation_data=(x_test, y_test))"
      ],
      "execution_count": null,
      "outputs": [
        {
          "output_type": "stream",
          "name": "stdout",
          "text": [
            "Epoch 1/20\n",
            "49/49 [==============================] - 6s 94ms/step - loss: 0.9818 - acc: 0.7747 - val_loss: 0.6743 - val_acc: 0.8504\n",
            "Epoch 2/20\n",
            "49/49 [==============================] - 1s 26ms/step - loss: 0.6395 - acc: 0.8485 - val_loss: 0.6339 - val_acc: 0.8393\n",
            "Epoch 3/20\n",
            "49/49 [==============================] - 1s 26ms/step - loss: 0.5927 - acc: 0.8572 - val_loss: 0.5747 - val_acc: 0.8629\n",
            "Epoch 4/20\n",
            "49/49 [==============================] - 2s 44ms/step - loss: 0.5710 - acc: 0.8589 - val_loss: 0.5867 - val_acc: 0.8476\n",
            "Epoch 5/20\n",
            "49/49 [==============================] - 2s 38ms/step - loss: 0.5503 - acc: 0.8672 - val_loss: 0.5801 - val_acc: 0.8465\n",
            "Epoch 6/20\n",
            "49/49 [==============================] - 2s 47ms/step - loss: 0.5417 - acc: 0.8642 - val_loss: 0.5477 - val_acc: 0.8633\n",
            "Epoch 7/20\n",
            "49/49 [==============================] - 2s 41ms/step - loss: 0.5347 - acc: 0.8665 - val_loss: 0.5316 - val_acc: 0.8665\n",
            "Epoch 8/20\n",
            "49/49 [==============================] - 1s 26ms/step - loss: 0.5292 - acc: 0.8683 - val_loss: 0.5642 - val_acc: 0.8488\n",
            "Epoch 9/20\n",
            "49/49 [==============================] - 1s 26ms/step - loss: 0.5244 - acc: 0.8706 - val_loss: 0.5213 - val_acc: 0.8692\n",
            "Epoch 10/20\n",
            "49/49 [==============================] - 1s 27ms/step - loss: 0.5191 - acc: 0.8706 - val_loss: 0.5367 - val_acc: 0.8617\n",
            "Epoch 11/20\n",
            "49/49 [==============================] - 2s 35ms/step - loss: 0.5187 - acc: 0.8710 - val_loss: 0.5268 - val_acc: 0.8665\n",
            "Epoch 12/20\n",
            "49/49 [==============================] - 2s 31ms/step - loss: 0.5140 - acc: 0.8732 - val_loss: 0.5205 - val_acc: 0.8700\n",
            "Epoch 13/20\n",
            "49/49 [==============================] - 1s 25ms/step - loss: 0.5064 - acc: 0.8780 - val_loss: 0.5146 - val_acc: 0.8735\n",
            "Epoch 14/20\n",
            "49/49 [==============================] - 1s 25ms/step - loss: 0.5053 - acc: 0.8768 - val_loss: 0.5480 - val_acc: 0.8544\n",
            "Epoch 15/20\n",
            "49/49 [==============================] - 1s 27ms/step - loss: 0.4990 - acc: 0.8790 - val_loss: 0.5285 - val_acc: 0.8647\n",
            "Epoch 16/20\n",
            "49/49 [==============================] - 1s 27ms/step - loss: 0.4980 - acc: 0.8802 - val_loss: 0.5096 - val_acc: 0.8722\n",
            "Epoch 17/20\n",
            "49/49 [==============================] - 1s 27ms/step - loss: 0.4909 - acc: 0.8827 - val_loss: 0.5023 - val_acc: 0.8754\n",
            "Epoch 18/20\n",
            "49/49 [==============================] - 1s 26ms/step - loss: 0.4875 - acc: 0.8831 - val_loss: 0.5063 - val_acc: 0.8719\n",
            "Epoch 19/20\n",
            "49/49 [==============================] - 1s 24ms/step - loss: 0.4808 - acc: 0.8851 - val_loss: 0.5016 - val_acc: 0.8742\n",
            "Epoch 20/20\n",
            "49/49 [==============================] - 2s 43ms/step - loss: 0.4786 - acc: 0.8853 - val_loss: 0.4910 - val_acc: 0.8782\n"
          ]
        }
      ]
    },
    {
      "cell_type": "code",
      "source": [
        "gc.collect()"
      ],
      "metadata": {
        "colab": {
          "base_uri": "https://localhost:8080/"
        },
        "id": "oMuR_uWVdu_R",
        "outputId": "0123810e-a463-438c-d142-d0fc18b323e9"
      },
      "execution_count": null,
      "outputs": [
        {
          "output_type": "execute_result",
          "data": {
            "text/plain": [
              "5178"
            ]
          },
          "metadata": {},
          "execution_count": 31
        }
      ]
    },
    {
      "cell_type": "code",
      "metadata": {
        "id": "4aItEQzAyHlh",
        "colab": {
          "base_uri": "https://localhost:8080/",
          "height": 279
        },
        "outputId": "4b15dab0-af03-4408-b581-29282b01b830"
      },
      "source": [
        "l12_model_val_loss = l12_model_hist.history['val_loss']\n",
        "\n",
        "def modelplot_L12():\n",
        "  sns.scatterplot(x=epochs, y=original_val_loss, color=\"b\", marker='x', label='Original model')\n",
        "  sns.scatterplot(x=epochs, y=l12_model_val_loss, color=\"b\", marker='o', label='L12-regularized model')\n",
        "  plt.xlabel('Epochs')\n",
        "  plt.ylabel('Validation loss')\n",
        "  plt.legend()\n",
        "\n",
        "modelplot_L12()"
      ],
      "execution_count": null,
      "outputs": [
        {
          "output_type": "display_data",
          "data": {
            "text/plain": [
              "<Figure size 432x288 with 1 Axes>"
            ],
            "image/png": "[encoded data removed]"
          },
          "metadata": {
            "needs_background": "light"
          }
        }
      ]
    },
    {
      "cell_type": "markdown",
      "metadata": {
        "id": "KTsDikb3aqih"
      },
      "source": [
        "## Adding dropout"
      ]
    },
    {
      "cell_type": "markdown",
      "metadata": {
        "id": "Tb-5-SLIWhvt"
      },
      "source": [
        "Dropout is one of the most effective and most commonly used regularization techniques for neural networks, developed by Hinton and his \n",
        "students at the University of Toronto. Dropout, applied to a layer, consists of randomly \"dropping out\" (i.e. setting to zero) a number of \n",
        "output features of the layer during training. Let's say a given layer would normally have returned a vector `[0.2, 0.5, 1.3, 0.8, 1.1]` for a \n",
        "given input sample during training; after applying dropout, this vector will have a few zero entries distributed at random, e.g. `[0, 0.5, \n",
        "1.3, 0, 1.1]`. The \"dropout rate\" is the fraction of the features that are being zeroed-out; it is usually set between 0.2 and 0.5. At test \n",
        "time, no units are dropped out, and instead the layer's output values are scaled down by a factor equal to the dropout rate, so as to \n",
        "balance for the fact that more units are active than at training time.\n",
        "\n",
        "Consider a Numpy matrix containing the output of a layer, `layer_output`, of shape `(batch_size, features)`. At training time, we would be \n",
        "zero-ing out at random a fraction of the values in the matrix:"
      ]
    },
    {
      "cell_type": "code",
      "metadata": {
        "id": "uOtnV8nkYNjZ"
      },
      "source": [
        "## CODE SNIPPET\n",
        "## At training time: we drop out 50% of the units in the output\n",
        "#\n",
        "# layer_output *= np.randint(0, high=2, size=layer_output.shape)\n",
        "#"
      ],
      "execution_count": null,
      "outputs": []
    },
    {
      "cell_type": "markdown",
      "metadata": {
        "id": "QjA6FK0-Wnfp"
      },
      "source": [
        "\n",
        "At test time, we would be scaling the output down by the dropout rate. Here we scale by 0.5 (because we were previous dropping half the \n",
        "units):"
      ]
    },
    {
      "cell_type": "code",
      "metadata": {
        "id": "-d-Sm7ziWoiJ"
      },
      "source": [
        "## CODE SNIPPET\n",
        "## At test time:\n",
        "#\n",
        "# layer_output *= 0.5\n",
        "#"
      ],
      "execution_count": null,
      "outputs": []
    },
    {
      "cell_type": "markdown",
      "metadata": {
        "id": "I-s0tKdSWpMk"
      },
      "source": [
        "\n",
        "Note that this process can be implemented by doing both operations at training time and leaving the output unchanged at test time, which is \n",
        "often the way it is implemented in practice:"
      ]
    },
    {
      "cell_type": "code",
      "metadata": {
        "id": "Q9T9DGhNWqli"
      },
      "source": [
        "## CODE SNIPPET\n",
        "## At training time:\n",
        "#\n",
        "# layer_output *= np.randint(0, high=2, size=layer_output.shape)\n",
        "#\n",
        "## Note that we are scaling *up* rather scaling *down* in this case\n",
        "#\n",
        "# layer_output /= 0.5\n",
        "#"
      ],
      "execution_count": null,
      "outputs": []
    },
    {
      "cell_type": "markdown",
      "metadata": {
        "id": "VW_8MPT9WtMn"
      },
      "source": [
        "\n",
        "This technique may seem strange and arbitrary. Why would this help reduce overfitting? Geoff Hinton has said that he was inspired, among \n",
        "other things, by a fraud prevention mechanism used by banks -- in his own words: _\"I went to my bank. The tellers kept changing and I asked \n",
        "one of them why. He said he didn’t know but they got moved around a lot. I figured it must be because it would require cooperation \n",
        "between employees to successfully defraud the bank. This made me realize that randomly removing a different subset of neurons on each \n",
        "example would prevent conspiracies and thus reduce overfitting\"_.\n",
        "\n",
        "The core idea is that introducing noise in the output values of a layer can break up happenstance patterns that are not significant (what \n",
        "Hinton refers to as \"conspiracies\"), which the network would start memorizing if no noise was present. \n",
        "\n",
        "In Keras you can introduce dropout in a network via the `Dropout` layer, which gets applied to the output of layer right before it, e.g.:"
      ]
    },
    {
      "cell_type": "code",
      "metadata": {
        "id": "leQ9f3g3YT2t"
      },
      "source": [
        "## CODE SNIPPET\n",
        "#\n",
        "# model.add(layers.Dropout(0.5))\n",
        "#"
      ],
      "execution_count": null,
      "outputs": []
    },
    {
      "cell_type": "markdown",
      "metadata": {
        "id": "krcmfPKGWvGs"
      },
      "source": [
        "Let's add two `Dropout` layers in our IMDB network to see how well they do at reducing overfitting:"
      ]
    },
    {
      "cell_type": "code",
      "metadata": {
        "id": "bm_dFWS3WwFp"
      },
      "source": [
        "dpt_model = models.Sequential()\n",
        "dpt_model.add(layers.Dense(16, activation='relu', input_shape=(10000,)))\n",
        "dpt_model.add(layers.Dropout(0.5))\n",
        "dpt_model.add(layers.Dense(16, activation='relu'))\n",
        "dpt_model.add(layers.Dropout(0.5))\n",
        "dpt_model.add(layers.Dense(1, activation='sigmoid'))\n",
        "\n",
        "dpt_model.compile(optimizer='rmsprop',\n",
        "                  loss='binary_crossentropy',\n",
        "                  metrics=['acc'])"
      ],
      "execution_count": null,
      "outputs": []
    },
    {
      "cell_type": "code",
      "metadata": {
        "id": "8MxLEv5EWxCy",
        "colab": {
          "base_uri": "https://localhost:8080/"
        },
        "outputId": "bcb549b6-d19b-4dc1-bdb9-a1807c629972"
      },
      "source": [
        "dpt_model_hist = dpt_model.fit(x_train, y_train,\n",
        "                               epochs=20,\n",
        "                               batch_size=512,\n",
        "                               validation_data=(x_test, y_test))"
      ],
      "execution_count": null,
      "outputs": [
        {
          "output_type": "stream",
          "name": "stdout",
          "text": [
            "Epoch 1/20\n",
            "49/49 [==============================] - 5s 69ms/step - loss: 0.6045 - acc: 0.6666 - val_loss: 0.4711 - val_acc: 0.8573\n",
            "Epoch 2/20\n",
            "49/49 [==============================] - 1s 26ms/step - loss: 0.4726 - acc: 0.7902 - val_loss: 0.3634 - val_acc: 0.8751\n",
            "Epoch 3/20\n",
            "49/49 [==============================] - 1s 26ms/step - loss: 0.3849 - acc: 0.8463 - val_loss: 0.3040 - val_acc: 0.8850\n",
            "Epoch 4/20\n",
            "49/49 [==============================] - 1s 25ms/step - loss: 0.3276 - acc: 0.8805 - val_loss: 0.2863 - val_acc: 0.8845\n",
            "Epoch 5/20\n",
            "49/49 [==============================] - 1s 27ms/step - loss: 0.2816 - acc: 0.8986 - val_loss: 0.2767 - val_acc: 0.8899\n",
            "Epoch 6/20\n",
            "49/49 [==============================] - 1s 27ms/step - loss: 0.2464 - acc: 0.9131 - val_loss: 0.2815 - val_acc: 0.8891\n",
            "Epoch 7/20\n",
            "49/49 [==============================] - 2s 31ms/step - loss: 0.2238 - acc: 0.9239 - val_loss: 0.2971 - val_acc: 0.8891\n",
            "Epoch 8/20\n",
            "49/49 [==============================] - 1s 29ms/step - loss: 0.1987 - acc: 0.9309 - val_loss: 0.3161 - val_acc: 0.8860\n",
            "Epoch 9/20\n",
            "49/49 [==============================] - 1s 25ms/step - loss: 0.1844 - acc: 0.9373 - val_loss: 0.3298 - val_acc: 0.8861\n",
            "Epoch 10/20\n",
            "49/49 [==============================] - 1s 25ms/step - loss: 0.1721 - acc: 0.9403 - val_loss: 0.3466 - val_acc: 0.8804\n",
            "Epoch 11/20\n",
            "49/49 [==============================] - 1s 27ms/step - loss: 0.1604 - acc: 0.9456 - val_loss: 0.3596 - val_acc: 0.8792\n",
            "Epoch 12/20\n",
            "49/49 [==============================] - 1s 24ms/step - loss: 0.1461 - acc: 0.9479 - val_loss: 0.3827 - val_acc: 0.8823\n",
            "Epoch 13/20\n",
            "49/49 [==============================] - 1s 27ms/step - loss: 0.1422 - acc: 0.9505 - val_loss: 0.4144 - val_acc: 0.8801\n",
            "Epoch 14/20\n",
            "49/49 [==============================] - 1s 25ms/step - loss: 0.1339 - acc: 0.9506 - val_loss: 0.4450 - val_acc: 0.8780\n",
            "Epoch 15/20\n",
            "49/49 [==============================] - 1s 26ms/step - loss: 0.1275 - acc: 0.9525 - val_loss: 0.4599 - val_acc: 0.8723\n",
            "Epoch 16/20\n",
            "49/49 [==============================] - 1s 29ms/step - loss: 0.1251 - acc: 0.9556 - val_loss: 0.4593 - val_acc: 0.8763\n",
            "Epoch 17/20\n",
            "49/49 [==============================] - 2s 43ms/step - loss: 0.1195 - acc: 0.9562 - val_loss: 0.5112 - val_acc: 0.8753\n",
            "Epoch 18/20\n",
            "49/49 [==============================] - 1s 25ms/step - loss: 0.1145 - acc: 0.9568 - val_loss: 0.5122 - val_acc: 0.8749\n",
            "Epoch 19/20\n",
            "49/49 [==============================] - 1s 26ms/step - loss: 0.1146 - acc: 0.9572 - val_loss: 0.5391 - val_acc: 0.8750\n",
            "Epoch 20/20\n",
            "49/49 [==============================] - 1s 25ms/step - loss: 0.1067 - acc: 0.9606 - val_loss: 0.5724 - val_acc: 0.8763\n"
          ]
        }
      ]
    },
    {
      "cell_type": "code",
      "source": [
        "gc.collect()"
      ],
      "metadata": {
        "colab": {
          "base_uri": "https://localhost:8080/"
        },
        "id": "8j9M8uyTbwtg",
        "outputId": "440b1106-89d5-4ef2-c4a7-d4e8ca9a0550"
      },
      "execution_count": null,
      "outputs": [
        {
          "output_type": "execute_result",
          "data": {
            "text/plain": [
              "5178"
            ]
          },
          "metadata": {},
          "execution_count": 35
        }
      ]
    },
    {
      "cell_type": "markdown",
      "metadata": {
        "id": "We61WNRqWyse"
      },
      "source": [
        "Let's plot the results:"
      ]
    },
    {
      "cell_type": "code",
      "metadata": {
        "id": "uTtLY6DtWznW",
        "colab": {
          "base_uri": "https://localhost:8080/",
          "height": 279
        },
        "outputId": "e355a2c1-b204-4d45-8057-4fb4ccea5500"
      },
      "source": [
        "dpt_model_val_loss = dpt_model_hist.history['val_loss']\n",
        "\n",
        "def modelplot_Drop():\n",
        "  sns.scatterplot(x=epochs, y=original_val_loss, color=\"b\", marker='x', label='Original model')\n",
        "  sns.scatterplot(x=epochs, y=dpt_model_val_loss, color=\"b\", marker='o', label='Dropout-regularized model')\n",
        "  plt.xlabel('Epochs')\n",
        "  plt.ylabel('Validation loss')\n",
        "  plt.legend()\n",
        "\n",
        "modelplot_Drop()"
      ],
      "execution_count": null,
      "outputs": [
        {
          "output_type": "display_data",
          "data": {
            "text/plain": [
              "<Figure size 432x288 with 1 Axes>"
            ],
            "image/png": "[encoded data removed]"
          },
          "metadata": {
            "needs_background": "light"
          }
        }
      ]
    },
    {
      "cell_type": "markdown",
      "metadata": {
        "id": "1BJnemLsajtU"
      },
      "source": [
        "# Conclusions"
      ]
    },
    {
      "cell_type": "markdown",
      "metadata": {
        "id": "gxvDqt7KW0t7"
      },
      "source": [
        "\n",
        "Again, a clear improvement over the reference network.\n",
        "\n",
        "To recap: here the most common ways to prevent overfitting in neural networks:\n",
        "\n",
        "* Getting more training data.\n",
        "* Reducing the capacity of the network.\n",
        "* Adding weight regularization.\n",
        "* Adding dropout\n",
        "\n",
        "\n",
        "Finally, let's take a look at all our results to see how the models compare. Notice the patterns of loss among the different models with under and over fitting constraints. "
      ]
    },
    {
      "cell_type": "code",
      "metadata": {
        "id": "YukYx8we6MzG",
        "colab": {
          "base_uri": "https://localhost:8080/",
          "height": 536
        },
        "outputId": "6ba79fa3-4eef-47a6-d951-cbe50d46411b"
      },
      "source": [
        "# Layout all plots into one figure for easy comparison\n",
        "\n",
        "f = plt.figure(figsize=(20, 10))\n",
        "gs = f.add_gridspec(3, 3)\n",
        "\n",
        "f.suptitle('Comparisons of Loss: Underfitting v Overfitting')\n",
        "\n",
        "sns.set_palette(\"flare\", n_colors=8, color_codes=True)\n",
        "sns.set_color_codes(palette='bright')\n",
        "\n",
        "original_diff = np.subtract(original_val_loss, original_train_loss)\n",
        "smaller_diff = np.subtract(smaller_model_val_loss, smaller_model_train_loss)\n",
        "bigger_diff = np.subtract(bigger_model_val_loss, bigger_model_train_loss)\n",
        "\n",
        "with sns.axes_style(\"darkgrid\", {\"axes.facecolor\": \".9\"}):\n",
        "    sns.set_context(\"talk\")\n",
        "    ax1 = f.add_subplot(gs[0, 0])\n",
        "    sns.scatterplot(x=epochs, y=original_val_loss, color=\"g\", marker='X', label='Original model')\n",
        "    sns.scatterplot(x=epochs, y=smaller_model_val_loss, color=\"c\", marker='o', label='Smaller model')\n",
        "    plt.setp(ax1.get_xticklabels(), visible=False)\n",
        "\n",
        "with sns.axes_style(\"darkgrid\", {\"axes.facecolor\": \".9\"}):\n",
        "    sns.set_context(\"talk\")\n",
        "    ax2 = f.add_subplot(gs[0, 1])\n",
        "    sns.scatterplot(x=epochs, y=original_train_loss, color=\"g\", marker='X')\n",
        "    sns.scatterplot(x=epochs, y=smaller_model_train_loss, color=\"c\", marker='o')\n",
        "    plt.setp(ax2.get_xticklabels(), visible=False)\n",
        "\n",
        "with sns.axes_style(\"darkgrid\", {\"axes.facecolor\": \".9\"}):\n",
        "    sns.set_context(\"talk\")\n",
        "    ax3 = f.add_subplot(gs[0, 2])\n",
        "    sns.scatterplot(x=epochs, y=original_diff, color=\"g\", marker='X')\n",
        "    sns.scatterplot(x=epochs, y=smaller_diff, color=\"c\", marker='o')\n",
        "    plt.setp(ax3.get_xticklabels(), visible=False)  \n",
        "\n",
        "with sns.axes_style(\"darkgrid\", {\"axes.facecolor\": \".9\"}):\n",
        "    sns.set_context(\"talk\")\n",
        "    ax4 = f.add_subplot(gs[1, 0])\n",
        "    sns.scatterplot(x=epochs, y=original_val_loss, color=\"g\", marker='X')\n",
        "    sns.scatterplot(x=epochs, y=bigger_model_val_loss, color=\"m\", marker='o', label='Bigger model')\n",
        "    plt.setp(ax4.get_xticklabels(), visible=False)\n",
        "\n",
        "with sns.axes_style(\"darkgrid\", {\"axes.facecolor\": \".9\"}):\n",
        "    sns.set_context(\"talk\")\n",
        "    ax5 = f.add_subplot(gs[1, 1])\n",
        "    sns.scatterplot(x=epochs, y=original_train_loss, color=\"g\", marker='X')\n",
        "    sns.scatterplot(x=epochs, y=bigger_model_train_loss, color=\"m\", marker='o')\n",
        "    plt.setp(ax5.get_xticklabels(), visible=False)\n",
        "\n",
        "with sns.axes_style(\"darkgrid\", {\"axes.facecolor\": \".9\"}):\n",
        "    sns.set_context(\"talk\")\n",
        "    ax6 = f.add_subplot(gs[1, 2])\n",
        "    sns.scatterplot(x=epochs, y=original_diff, color=\"g\", marker='X')\n",
        "    sns.scatterplot(x=epochs, y=bigger_diff, color=\"m\", marker='o')\n",
        "    plt.setp(ax6.get_xticklabels(), visible=False)\n",
        "\n",
        "with sns.axes_style(\"darkgrid\", {\"axes.facecolor\": \".9\"}):\n",
        "    sns.set_context(\"talk\")\n",
        "    ax7 = f.add_subplot(gs[2, 0])\n",
        "    sns.scatterplot(x=epochs, y=original_val_loss, color=\"g\", marker='X')\n",
        "    sns.scatterplot(x=epochs, y=l1_model_val_loss, color=\"pink\", marker='o', label='L1-regularized model')\n",
        "\n",
        "with sns.axes_style(\"darkgrid\", {\"axes.facecolor\": \".9\"}):\n",
        "    sns.set_context(\"talk\")\n",
        "    ax8 = f.add_subplot(gs[2, 1])\n",
        "    sns.scatterplot(x=epochs, y=original_val_loss, color=\"g\", marker='X')\n",
        "    sns.scatterplot(x=epochs, y=l2_model_val_loss, color=\"pink\", marker='o', label='L2-regularized model')\n",
        "    plt.setp(ax8.get_yticklabels(), visible=False)  \n",
        "\n",
        "with sns.axes_style(\"darkgrid\", {\"axes.facecolor\": \".9\"}):\n",
        "    sns.set_context(\"talk\")\n",
        "    ax9 = f.add_subplot(gs[2, 2])\n",
        "    sns.scatterplot(x=epochs, y=original_val_loss, color=\"g\", marker='X')\n",
        "    sns.scatterplot(x=epochs, y=dpt_model_val_loss, color=\"y\", marker='o', label='Dropout-regularized model')\n",
        "    plt.setp(ax9.get_yticklabels(), visible=False)\n",
        "\n",
        "ax7.set(xlabel='Epochs')\n",
        "ax8.set(xlabel='Epochs')\n",
        "ax9.set(xlabel='Epochs')\n",
        "\n",
        "ax1.set(ylabel='Validation loss')\n",
        "ax4.set(ylabel='Validation loss')\n",
        "ax7.set(ylabel='Validation loss')\n",
        "\n",
        "ax2.set(ylabel='Training loss')\n",
        "ax5.set(ylabel='Training loss')\n",
        "\n",
        "ax3.set(ylabel='Loss difference')\n",
        "ax6.set(ylabel='Loss difference')\n",
        "\n",
        "f.align_labels()"
      ],
      "execution_count": null,
      "outputs": [
        {
          "output_type": "display_data",
          "data": {
            "text/plain": [
              "<Figure size 1440x720 with 9 Axes>"
            ],
            "image/png": "[encoded data removed]"
          },
          "metadata": {
            "needs_background": "light"
          }
        }
      ]
    },
    {
      "cell_type": "markdown",
      "metadata": {
        "id": "UlkIAEBRcbgy"
      },
      "source": [
        "\n",
        "# Lab Questions\n",
        "\n",
        "---\n"
      ]
    },
    {
      "cell_type": "markdown",
      "metadata": {
        "id": "pCWoJc0Sy6fA"
      },
      "source": [
        "**1. In your own words, briefly define overfitting, underfitting, good fit, regularization. Provide a sketch indicating a sample data set, an over-fit curve, an under-fit curve and a good fit curve.** (4 marks)"
      ]
    },
    {
      "cell_type": "markdown",
      "metadata": {
        "id": "OxTteoZky_RL"
      },
      "source": [
        "*Write answer here*"
      ]
    },
    {
      "cell_type": "markdown",
      "metadata": {
        "id": "XqgLO9aCzAl_"
      },
      "source": [
        "**2. Where can we introduce noise into a network? Why there? Can we introduce noise in multiple areas of a network? Why or why not?** (2 marks)"
      ]
    },
    {
      "cell_type": "markdown",
      "metadata": {
        "id": "uzX4GTQPzE1Z"
      },
      "source": [
        "\n",
        "*Write answer here*"
      ]
    },
    {
      "cell_type": "markdown",
      "metadata": {
        "id": "Vgmw_aoqzF5r"
      },
      "source": [
        "**3. What are the most common ways to prevent overfitting and provide an example of each.** (4 marks)"
      ]
    },
    {
      "cell_type": "markdown",
      "metadata": {
        "id": "OWEdRJFizKzW"
      },
      "source": [
        "*Write answer here*"
      ]
    },
    {
      "cell_type": "markdown",
      "metadata": {
        "id": "kndUKqi0zSTb"
      },
      "source": [
        "**4. What is the cost added proportional to in L1 and in L2 regularization?** (1 mark)"
      ]
    },
    {
      "cell_type": "markdown",
      "metadata": {
        "id": "gfYJs8STzWbj"
      },
      "source": [
        "*Write answer here*"
      ]
    },
    {
      "cell_type": "markdown",
      "metadata": {
        "id": "2lO5O3ULzXj_"
      },
      "source": [
        "**5. Describe the steps involved to find the right model size for a given set of data.** (5 marks)"
      ]
    },
    {
      "cell_type": "markdown",
      "metadata": {
        "id": "yY-okHRSzcqA"
      },
      "source": [
        "*Write answer here*"
      ]
    },
    {
      "cell_type": "markdown",
      "metadata": {
        "id": "wDD1tQeozdyN"
      },
      "source": [
        "**6. What is meant by bias in a network? What happens when a model has a High Bias? What is this an example of (overfitting or underfitting)?** (2 marks)"
      ]
    },
    {
      "cell_type": "markdown",
      "metadata": {
        "id": "gftW_kmTziA9"
      },
      "source": [
        "*Write answer here*"
      ]
    },
    {
      "cell_type": "markdown",
      "metadata": {
        "id": "5-aTiWJ_znSx"
      },
      "source": [
        "**7. What is meant by “variance” in a network? What happens when a model has High Variance? What is this an example of (overfitting or underfitting)?** (2 marks)"
      ]
    },
    {
      "cell_type": "markdown",
      "metadata": {
        "id": "3TEOtSPez2Qv"
      },
      "source": [
        "*Write answer here*\n"
      ]
    },
    {
      "cell_type": "markdown",
      "metadata": {
        "id": "GcAaCHPXzrh8"
      },
      "source": [
        "**8. Read the following article: https://www.theregister.com/2020/07/01/mit_dataset_removed/\n",
        "Describe a scenario in which biased datasets and models could affect your life negatively. Describe a scenario that does NOT affect your life but could have a negative impact on someone else’s life. What factors must be monitored to prevent biased datasets and models from exhibiting unexpected negative behaviour?** (5 marks)"
      ]
    },
    {
      "cell_type": "markdown",
      "metadata": {
        "id": "xIKdd0ghz00x"
      },
      "source": [
        "*Write answer here*\n"
      ]
    }
  ]
}